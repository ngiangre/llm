{
 "cells": [
  {
   "cell_type": "code",
   "execution_count": null,
   "id": "1c0fa6f4",
   "metadata": {},
   "outputs": [],
   "source": [
    "import NWS\n",
    "\n",
    "posit_conf = {\"lat\": \"33.761627\", \"lon\": \"-84.386963\"}\n",
    "\n",
    "# Initiate the NWS API (replace with your app name and email)\n",
    "NWS.InitiateAPI(\"posit::conf(2025)\", \"conf@posit.co\")\n",
    "\n",
    "# Get the forecast for the posit::conf location\n",
    "forecast = NWS.GetCurrentForecast(posit_conf[\"lat\"], posit_conf[\"lon\"])"
   ]
  },
  {
   "cell_type": "code",
   "execution_count": null,
   "id": "7ed2d247",
   "metadata": {},
   "outputs": [],
   "source": [
    "# ---- ⚒️ Let's turn this into a tool 🛠️ ----\n",
    "def get_weather(lat: float, lon: float):\n",
    "    \"\"\"\n",
    "    Get forecast data for a specific latitude and longitude.\n",
    "\n",
    "    Parameters\n",
    "    ----------\n",
    "    lat : str\n",
    "        Latitude of the location.\n",
    "    lon : str\n",
    "        Longitude of the location.\n",
    "    \"\"\"\n",
    "    return NWS.GetCurrentForecast(lat, lon)"
   ]
  },
  {
   "cell_type": "code",
   "execution_count": null,
   "id": "9f029be8",
   "metadata": {},
   "outputs": [],
   "source": [
    "# The tool is callable!\n",
    "weather = get_weather(posit_conf[\"lat\"], posit_conf[\"lon\"])\n",
    "weather"
   ]
  },
  {
   "cell_type": "code",
   "execution_count": null,
   "id": "4c7166e7",
   "metadata": {},
   "outputs": [],
   "source": [
    "# ---- 🧰 Teach an LLM that we have this tool ----\n",
    "import chatlas\n",
    "\n",
    "chat = chatlas.ChatAuto(\"openai/gpt-4.1-nano\")\n",
    "chat.register_tool(get_weather)"
   ]
  },
  {
   "cell_type": "code",
   "execution_count": null,
   "id": "5b49b023",
   "metadata": {},
   "outputs": [],
   "source": [
    "# Use the chatbot to answer questions using the tool\n",
    "chat.chat(\"What should I wear for a walk during posit::conf() in Atlanta?\")"
   ]
  }
 ],
 "metadata": {
  "jupytext": {
   "cell_metadata_filter": "-all",
   "main_language": "python",
   "notebook_metadata_filter": "-all"
  }
 },
 "nbformat": 4,
 "nbformat_minor": 5
}
