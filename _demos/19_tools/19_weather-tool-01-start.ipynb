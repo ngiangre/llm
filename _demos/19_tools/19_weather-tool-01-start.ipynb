{
 "cells": [
  {
   "cell_type": "code",
   "execution_count": null,
   "id": "ae5daa02",
   "metadata": {},
   "outputs": [],
   "source": [
    "import NWS\n",
    "\n",
    "posit_conf = {\"lat\": \"33.761627\", \"lon\": \"-84.386963\"}\n",
    "\n",
    "# Initiate the NWS API\n",
    "NWS.InitiateAPI(\"posit::conf(2025)\", \"conf@posit.co\")\n",
    "\n",
    "# Get the forecast for the posit::conf location\n",
    "forecast = NWS.GetCurrentForecast(posit_conf[\"lat\"], posit_conf[\"lon\"])"
   ]
  },
  {
   "cell_type": "code",
   "execution_count": null,
   "id": "750ce7cf",
   "metadata": {},
   "outputs": [],
   "source": [
    "# ---- ⚒️ Let's turn this into a tool 🛠️ ----\n",
    "def get_weather(lat: float, lon: float):\n",
    "    pass"
   ]
  },
  {
   "cell_type": "code",
   "execution_count": null,
   "id": "adb53afa",
   "metadata": {},
   "outputs": [],
   "source": [
    "# The tool is callable!\n",
    "weather = get_weather(posit_conf[\"lat\"], posit_conf[\"lon\"])\n",
    "weather"
   ]
  },
  {
   "cell_type": "code",
   "execution_count": null,
   "id": "58590ce9",
   "metadata": {},
   "outputs": [],
   "source": [
    "# ---- 🧰 Teach an LLM that we have this tool ----\n",
    "import chatlas\n",
    "\n",
    "chat = chatlas.ChatOpenAI(model=\"gpt-4.1-nano\")\n",
    "# register the tool"
   ]
  },
  {
   "cell_type": "code",
   "execution_count": null,
   "id": "e02c0f84",
   "metadata": {},
   "outputs": [],
   "source": [
    "# Use the chatbot to answer questions using the tool\n",
    "chat.chat(\"What should I wear to posit::conf(2025) in Atlanta?\")"
   ]
  }
 ],
 "metadata": {
  "jupytext": {
   "cell_metadata_filter": "-all",
   "main_language": "python",
   "notebook_metadata_filter": "-all"
  }
 },
 "nbformat": 4,
 "nbformat_minor": 5
}
