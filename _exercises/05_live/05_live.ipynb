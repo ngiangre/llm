{
 "cells": [
  {
   "cell_type": "code",
   "execution_count": null,
   "id": "9b63a2ea",
   "metadata": {
    "lines_to_next_cell": 2
   },
   "outputs": [],
   "source": [
    "import chatlas\n",
    "import dotenv\n",
    "\n",
    "dotenv.load_dotenv()"
   ]
  },
  {
   "cell_type": "markdown",
   "id": "9abb90a8",
   "metadata": {},
   "source": [
    "Your job: work with a chatbot to roast Hadley Wickham."
   ]
  },
  {
   "cell_type": "code",
   "execution_count": null,
   "id": "0e602b95",
   "metadata": {},
   "outputs": [],
   "source": [
    "chat = chatlas.ChatOpenAI()"
   ]
  },
  {
   "cell_type": "markdown",
   "id": "984fb3ed",
   "metadata": {},
   "source": [
    "Converse with the chatbot in your console."
   ]
  },
  {
   "cell_type": "code",
   "execution_count": null,
   "id": "69ef7432",
   "metadata": {},
   "outputs": [],
   "source": [
    "chat.console()"
   ]
  },
  {
   "cell_type": "markdown",
   "id": "281f0fb7",
   "metadata": {},
   "source": [
    "After a bit, exit the chat and try chatting in a Shiny app."
   ]
  },
  {
   "cell_type": "code",
   "execution_count": null,
   "id": "0e432ffc",
   "metadata": {},
   "outputs": [],
   "source": [
    "chat.app()"
   ]
  }
 ],
 "metadata": {
  "jupytext": {
   "cell_metadata_filter": "-all",
   "main_language": "python",
   "notebook_metadata_filter": "-all"
  }
 },
 "nbformat": 4,
 "nbformat_minor": 5
}
