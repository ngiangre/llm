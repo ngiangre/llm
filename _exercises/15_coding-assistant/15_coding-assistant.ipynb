{
 "cells": [
  {
   "cell_type": "code",
   "execution_count": null,
   "id": "4382ae77",
   "metadata": {
    "title": "setup"
   },
   "outputs": [],
   "source": [
    "import chatlas\n",
    "import dotenv\n",
    "from pyhere import here\n",
    "\n",
    "dotenv.load_dotenv()"
   ]
  },
  {
   "cell_type": "markdown",
   "id": "ed15cf1d",
   "metadata": {},
   "source": [
    "**Step 1:** Run the code below as-is to try the task without any extra\n",
    "context. How does the model do? Can you run the function? Does it give you the\n",
    "weather? Does it know enough about the NWS Python package to complete the\n",
    "task?\n",
    "\n",
    "**Step 2:** Now, let's add some context. Head over to the GitHub Repo for NWS\n",
    "(link in `docs.py.md`). Copy the project description from the `README.me` and\n",
    "paste it into `docs.py.md`.\n",
    "\n",
    "**Step 3:** Uncomment the extra lines to include these docs in the prompt and\n",
    "try again."
   ]
  },
  {
   "cell_type": "code",
   "execution_count": null,
   "id": "ac6597f1",
   "metadata": {
    "lines_to_next_cell": 2,
    "title": "task"
   },
   "outputs": [],
   "source": [
    "chat = chatlas.ChatAuto(\"anthropic/claude-3-5-sonnet-20241022\")\n",
    "\n",
    "chat.chat(\n",
    "    ## Extra context from package docs\n",
    "    # here(\"_exercises/15_coding-assistant/docs.py.md\").read_text(),\n",
    "    ## Task prompt\n",
    "    \"Write a simple function that takes latitude and longitude as inputs \"\n",
    "    \"and returns the weather forecast for that location using the NWS \"\n",
    "    \"package. Keep the function concise and simple and don't include error \"\n",
    "    \"handling or data re-formatting. Include a short docstring, including \"\n",
    "    \"including examples for NYC and Atlanta, GA.\",\n",
    ")"
   ]
  },
  {
   "cell_type": "markdown",
   "id": "a9e105fd",
   "metadata": {},
   "source": [
    "Put the result from the model in code block below to try it out."
   ]
  },
  {
   "cell_type": "code",
   "execution_count": null,
   "id": "70ebd8b3",
   "metadata": {
    "title": "results"
   },
   "outputs": [],
   "source": [
    "import NWS as weather\n",
    "# ..."
   ]
  }
 ],
 "metadata": {
  "jupytext": {
   "cell_metadata_filter": "-all",
   "main_language": "python",
   "notebook_metadata_filter": "-all"
  },
  "language_info": {
   "name": "python"
  }
 },
 "nbformat": 4,
 "nbformat_minor": 5
}
