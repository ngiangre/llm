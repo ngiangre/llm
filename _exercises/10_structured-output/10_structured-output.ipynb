{
 "cells": [
  {
   "cell_type": "code",
   "execution_count": null,
   "id": "1cc38bc8",
   "metadata": {},
   "outputs": [],
   "source": [
    "import chatlas\n",
    "import dotenv\n",
    "\n",
    "dotenv.load_dotenv()"
   ]
  },
  {
   "cell_type": "code",
   "execution_count": null,
   "id": "dd241e67",
   "metadata": {},
   "outputs": [],
   "source": [
    "from pyhere import here\n",
    "\n",
    "recipe_txt = here(\"data/recipes/text/\")\n",
    "txt_cheesecake = (recipe_txt / \"PhillyCheesesteak.md\").read_text()"
   ]
  },
  {
   "cell_type": "code",
   "execution_count": null,
   "id": "4f8230f0",
   "metadata": {},
   "outputs": [],
   "source": [
    "print(txt_cheesecake)"
   ]
  },
  {
   "cell_type": "markdown",
   "id": "d334af81",
   "metadata": {},
   "source": [
    "Here's an example of the structured output we want to achieve for a single\n",
    "recipe:\n",
    "\n",
    "```json\n",
    "{\n",
    "  \"title\": \"Spicy Mango Salsa Chicken\",\n",
    "  \"description\": \"A flavorful and vibrant chicken dish...\",\n",
    "  \"ingredients\": [\n",
    "    {\n",
    "      \"name\": \"Chicken Breast\",\n",
    "      \"quantity\": \"4\",\n",
    "      \"unit\": \"medium\",\n",
    "      \"notes\": \"Boneless, skinless\"\n",
    "    },\n",
    "    {\n",
    "      \"name\": \"Lime Juice\",\n",
    "      \"quantity\": \"2\",\n",
    "      \"unit\": \"tablespoons\",\n",
    "      \"notes\": \"Fresh\"\n",
    "    }\n",
    "  ],\n",
    "  \"instructions\": [\n",
    "    \"Preheat grill to medium-high heat.\",\n",
    "    \"In a bowl, combine ...\",\n",
    "    \"Season chicken breasts with salt and pepper.\",\n",
    "    \"Grill chicken breasts for 6-8 minutes per side, or until cooked through.\",\n",
    "    \"Serve chicken topped with the spicy mango salsa.\"\n",
    "  ]\n",
    "}\n",
    "```\n",
    "\n",
    "Hint: you can use `Optional` from the `typing` module to indicate that a field\n",
    "is not always required."
   ]
  },
  {
   "cell_type": "code",
   "execution_count": null,
   "id": "13c8d839",
   "metadata": {},
   "outputs": [],
   "source": [
    "from typing import List, Optional\n",
    "\n",
    "from pydantic import BaseModel, Field\n",
    "\n",
    "\n",
    "class Ingredient(BaseModel):\n",
    "    name: ____\n",
    "    quantity: ____\n",
    "    unit: Optional[____] = Field(None, description=\"____\")\n",
    "    notes: Optional[____] = ____\n",
    "\n",
    "\n",
    "class Recipe(BaseModel):\n",
    "    title: ____\n",
    "    description: ____\n",
    "    ingredients: List[_____]\n",
    "    instructions: List[____] = Field(..., description=\"____\")"
   ]
  },
  {
   "cell_type": "code",
   "execution_count": null,
   "id": "cf7e1a32",
   "metadata": {},
   "outputs": [],
   "source": [
    "chat = chatlas.ChatOpenAI(model=\"gpt-4.1-nano\")\n",
    "recipe = chat.chat_structured(txt_cheesecake, data_model=Recipe)"
   ]
  },
  {
   "cell_type": "markdown",
   "id": "6ea4e2c9",
   "metadata": {},
   "source": [
    "`.chat_structured()` returns an instance of the provided Pydantic model, so\n",
    "you can access fields directly:"
   ]
  },
  {
   "cell_type": "code",
   "execution_count": null,
   "id": "a29f755c",
   "metadata": {},
   "outputs": [],
   "source": [
    "recipe.title"
   ]
  },
  {
   "cell_type": "markdown",
   "id": "cd3f2d16",
   "metadata": {},
   "source": [
    "Or you can convert it to JSON with pydantic's built-in `.model_dump_json()`\n",
    "method:"
   ]
  },
  {
   "cell_type": "code",
   "execution_count": null,
   "id": "ee0f7613",
   "metadata": {},
   "outputs": [],
   "source": [
    "print(recipe.model_dump_json(indent=2))"
   ]
  }
 ],
 "metadata": {
  "jupytext": {
   "cell_metadata_filter": "-all",
   "main_language": "python",
   "notebook_metadata_filter": "-all"
  },
  "language_info": {
   "name": "python"
  }
 },
 "nbformat": 4,
 "nbformat_minor": 5
}
