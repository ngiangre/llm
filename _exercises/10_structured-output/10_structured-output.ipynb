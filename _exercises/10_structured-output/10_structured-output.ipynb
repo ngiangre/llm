{
 "cells": [
  {
   "cell_type": "code",
   "execution_count": null,
   "id": "1cc38bc8",
   "metadata": {},
   "outputs": [],
   "source": [
    "import chatlas\n",
    "import dotenv\n",
    "\n",
    "dotenv.load_dotenv()"
   ]
  },
  {
   "cell_type": "code",
   "execution_count": null,
   "id": "dd241e67",
   "metadata": {},
   "outputs": [],
   "source": [
    "from pyhere import here\n",
    "\n",
    "recipe_files = list(here(\"data/recipes/text\").glob(\"*\"))\n",
    "recipes = [f.read_text() for f in recipe_files]"
   ]
  },
  {
   "cell_type": "code",
   "execution_count": null,
   "id": "4f8230f0",
   "metadata": {},
   "outputs": [],
   "source": [
    "# {\n",
    "#   \"title\": \"Spicy Mango Salsa Chicken\",\n",
    "#   \"description\": \"A flavorful and vibrant chicken dish...\",\n",
    "#   \"ingredients\": [\n",
    "#     {\n",
    "#       \"name\": \"Chicken Breast\",\n",
    "#       \"quantity\": \"4\",\n",
    "#       \"unit\": \"medium\",\n",
    "#       \"notes\": \"Boneless, skinless\"\n",
    "#     },\n",
    "#     {\n",
    "#       \"name\": \"Lime Juice\",\n",
    "#       \"quantity\": \"2\",\n",
    "#       \"unit\": \"tablespoons\",\n",
    "#       \"notes\": \"Fresh\"\n",
    "#     }\n",
    "#   ],\n",
    "#   \"instructions\": [\n",
    "#     \"Preheat grill to medium-high heat.\",\n",
    "#     \"In a bowl, combine ...\",\n",
    "#     \"Season chicken breasts with salt and pepper.\",\n",
    "#     \"Grill chicken breasts for 6-8 minutes per side, or until cooked through.\",\n",
    "#     \"Serve chicken topped with the spicy mango salsa.\"\n",
    "#   ]\n",
    "# }"
   ]
  },
  {
   "cell_type": "code",
   "execution_count": null,
   "id": "13c8d839",
   "metadata": {},
   "outputs": [],
   "source": [
    "from typing import List, Optional\n",
    "\n",
    "from pydantic import BaseModel, Field\n",
    "\n",
    "\n",
    "class Ingredient(BaseModel):\n",
    "    name: str = Field(..., description=\"Name of the ingredient\")\n",
    "    quantity: float = Field(\n",
    "        ...,\n",
    "        description=\"Quantity as provided (kept as string to allow ranges or fractions)\",\n",
    "    )\n",
    "    unit: Optional[str] = Field(\n",
    "        None,\n",
    "        description=\"Unit of measure, if applicable\",\n",
    "    )\n",
    "    notes: Optional[str] = Field(\n",
    "        None,\n",
    "        description=\"Additional notes or preparation details\",\n",
    "    )\n",
    "\n",
    "\n",
    "class Recipe(BaseModel):\n",
    "    title: str\n",
    "    description: str\n",
    "    ingredients: List[Ingredient]\n",
    "    instructions: List[str] = Field(..., description=\"Step-by-step instructions\")"
   ]
  },
  {
   "cell_type": "code",
   "execution_count": null,
   "id": "cf7e1a32",
   "metadata": {},
   "outputs": [],
   "source": [
    "chat = chatlas.ChatOpenAI(model=\"gpt-5-nano\")\n",
    "chat.extract_data(recipes[0], data_model=Recipe)"
   ]
  }
 ],
 "metadata": {
  "jupytext": {
   "cell_metadata_filter": "-all",
   "main_language": "python",
   "notebook_metadata_filter": "-all"
  }
 },
 "nbformat": 4,
 "nbformat_minor": 5
}
