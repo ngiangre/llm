{
 "cells": [
  {
   "cell_type": "code",
   "execution_count": null,
   "id": "59405df0",
   "metadata": {},
   "outputs": [],
   "source": [
    "import chatlas\n",
    "import dotenv\n",
    "import polars as pl\n",
    "from matplotlib import pyplot as plt\n",
    "from plotnine import aes, geom_point, ggplot, labs, theme_bw\n",
    "from pyhere import here\n",
    "\n",
    "dotenv.load_dotenv()"
   ]
  },
  {
   "cell_type": "markdown",
   "id": "9b950603",
   "metadata": {},
   "source": [
    "Step 1: Create a scatter plot of `mpg` vs `wt` from the `mtcars` dataset using\n",
    "`plotnine`."
   ]
  },
  {
   "cell_type": "code",
   "execution_count": null,
   "id": "67bdf088",
   "metadata": {},
   "outputs": [],
   "source": [
    "mtcars = pl.read_csv(here(\"data/mtcars.csv\"))\n",
    "mtcars"
   ]
  },
  {
   "cell_type": "code",
   "execution_count": null,
   "id": "c7ee4386",
   "metadata": {},
   "outputs": [],
   "source": [
    "p = (\n",
    "    ggplot(mtcars, aes(x=\"wt\", y=\"mpg\"))\n",
    "    + geom_point(color=\"steelblue\", size=2)\n",
    "    + labs(title=\"MPG vs Weight\", x=\"Weight (1000 lb)\", y=\"Miles per Gallon (mpg)\")\n",
    "    + theme_bw()\n",
    ")\n",
    "\n",
    "p.show()"
   ]
  },
  {
   "cell_type": "code",
   "execution_count": null,
   "id": "bedf257e",
   "metadata": {},
   "outputs": [],
   "source": [
    "# Register the plot with matplotlib's current figure\n",
    "plt.figure(p.draw())"
   ]
  },
  {
   "cell_type": "markdown",
   "id": "dc313856",
   "metadata": {},
   "source": [
    "Step 2: Ask Claude 4 Sonnet to interpret the plot.\n",
    "(Hint: see `content_image_...`)"
   ]
  },
  {
   "cell_type": "code",
   "execution_count": null,
   "id": "23a301b5",
   "metadata": {},
   "outputs": [],
   "source": [
    "chat = chatlas.ChatAuto(\"____\")\n",
    "chat.chat(\n",
    "    \"Interpret this plot.\",\n",
    "    chatlas.____(),\n",
    ")"
   ]
  }
 ],
 "metadata": {
  "jupytext": {
   "cell_metadata_filter": "-all",
   "main_language": "python",
   "notebook_metadata_filter": "-all"
  },
  "language_info": {
   "name": "python"
  }
 },
 "nbformat": 4,
 "nbformat_minor": 5
}
