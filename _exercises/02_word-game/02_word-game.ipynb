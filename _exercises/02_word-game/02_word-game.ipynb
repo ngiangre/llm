{
 "cells": [
  {
   "cell_type": "code",
   "execution_count": null,
   "id": "8ed943a4",
   "metadata": {},
   "outputs": [],
   "source": [
    "import chatlas\n",
    "import dotenv\n",
    "\n",
    "dotenv.load_dotenv()"
   ]
  },
  {
   "cell_type": "markdown",
   "id": "571777cf",
   "metadata": {},
   "source": [
    "## Ley's play a word game!\n",
    "\n",
    "Set up a `chat` with a system prompt:\n",
    "\n",
    "> You are playing a word guessing game. At each turn, guess the word and tell\n",
    "> us what it is."
   ]
  },
  {
   "cell_type": "code",
   "execution_count": null,
   "id": "6a6056c2",
   "metadata": {},
   "outputs": [],
   "source": [
    "chat = chatlas.____(____=\"\")"
   ]
  },
  {
   "cell_type": "code",
   "execution_count": null,
   "id": "70a00d33",
   "metadata": {},
   "outputs": [],
   "source": [
    "# Ask the first question:\n",
    "____(\"In British English, guess the word for a person who lives next door.\")"
   ]
  },
  {
   "cell_type": "code",
   "execution_count": null,
   "id": "db0ca67a",
   "metadata": {},
   "outputs": [],
   "source": [
    "# Ask the second question:\n",
    "____(\"What helps a car move smoothly down the road?\")"
   ]
  },
  {
   "cell_type": "markdown",
   "id": "bf5dec8c",
   "metadata": {},
   "source": [
    "Crate a new, empty chat and ask the second question again, by itself.\n",
    "\n",
    "How do the responses differ? Why?"
   ]
  },
  {
   "cell_type": "code",
   "execution_count": null,
   "id": "76d58135",
   "metadata": {},
   "outputs": [],
   "source": [
    "chat2 = chatlas.____()\n",
    "chat2.____(\"What helps a car move smoothly down the road?\")"
   ]
  }
 ],
 "metadata": {
  "jupytext": {
   "cell_metadata_filter": "-all",
   "main_language": "python",
   "notebook_metadata_filter": "-all"
  }
 },
 "nbformat": 4,
 "nbformat_minor": 5
}
