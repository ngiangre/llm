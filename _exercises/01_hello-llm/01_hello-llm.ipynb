{
 "cells": [
  {
   "cell_type": "code",
   "execution_count": null,
   "id": "4ec59f88",
   "metadata": {},
   "outputs": [],
   "source": [
    "import chatlas\n",
    "import dotenv"
   ]
  },
  {
   "cell_type": "code",
   "execution_count": null,
   "id": "dfe473cd",
   "metadata": {},
   "outputs": [],
   "source": [
    "dotenv.load_dotenv()"
   ]
  },
  {
   "cell_type": "code",
   "execution_count": null,
   "id": "45508993",
   "metadata": {
    "lines_to_next_cell": 2
   },
   "outputs": [],
   "source": [
    "# ---- OpenAI ----\n",
    "chat_gpt = chatlas.ChatOpenAI()\n",
    "chat_gpt.chat(\n",
    "    \"I'm at posit::conf(2025) to learn about programming with LLMs and ellmer! \"\n",
    "    \"Write a short social media post for me.\"\n",
    ")"
   ]
  },
  {
   "cell_type": "code",
   "execution_count": null,
   "id": "efceea67",
   "metadata": {},
   "outputs": [],
   "source": [
    "# ---- Anthropic ----\n",
    "chat_claude = chatlas.ChatAnthropic()\n",
    "chat_claude.chat(\n",
    "    \"I'm at posit::conf(2025) to learn about programming with LLMs and ellmer!\",\n",
    "    \"Write a short poem to celebrate.\",\n",
    ")"
   ]
  }
 ],
 "metadata": {
  "jupytext": {
   "cell_metadata_filter": "-all",
   "main_language": "python",
   "notebook_metadata_filter": "-all"
  }
 },
 "nbformat": 4,
 "nbformat_minor": 5
}
