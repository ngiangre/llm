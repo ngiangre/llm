{
 "cells": [
  {
   "cell_type": "markdown",
   "id": "ff3bc9c3",
   "metadata": {},
   "source": [
    "In this workshop, we'll be using\n",
    "[chatlas](https://posit-dev.github.io/chatlas) to interact with large language\n",
    "models (LLMs) like OpenAI's GPT and Anthropic's Claude."
   ]
  },
  {
   "cell_type": "code",
   "execution_count": null,
   "id": "4ec59f88",
   "metadata": {},
   "outputs": [],
   "source": [
    "import chatlas"
   ]
  },
  {
   "cell_type": "markdown",
   "id": "9bba06a8",
   "metadata": {
    "lines_to_next_cell": 0
   },
   "source": [
    "To load the API keys for these services, we'll use the the `dotenv` package to\n",
    "load them from the `.env` file in the root of this project."
   ]
  },
  {
   "cell_type": "code",
   "execution_count": null,
   "id": "dfe473cd",
   "metadata": {},
   "outputs": [],
   "source": [
    "import dotenv\n",
    "\n",
    "dotenv.load_dotenv()"
   ]
  },
  {
   "cell_type": "markdown",
   "id": "a066905c",
   "metadata": {},
   "source": [
    "## OpenAI"
   ]
  },
  {
   "cell_type": "code",
   "execution_count": null,
   "id": "45508993",
   "metadata": {
    "lines_to_next_cell": 2
   },
   "outputs": [],
   "source": [
    "chat_gpt = chatlas.ChatOpenAI()\n",
    "chat_gpt.chat(\n",
    "    \"I'm at posit::conf(2025) to learn about programming with LLMs and ellmer! \"\n",
    "    \"Write a short social media post for me.\"\n",
    ")"
   ]
  },
  {
   "cell_type": "markdown",
   "id": "990df68b",
   "metadata": {},
   "source": [
    "## Anthropic"
   ]
  },
  {
   "cell_type": "code",
   "execution_count": null,
   "id": "efceea67",
   "metadata": {},
   "outputs": [],
   "source": [
    "chat_claude = chatlas.ChatAnthropic()\n",
    "chat_claude.chat(\n",
    "    \"I'm at posit::conf(2025) to learn about programming with LLMs and ellmer!\",\n",
    "    \"Write a short poem to celebrate.\",\n",
    ")"
   ]
  }
 ],
 "metadata": {
  "jupytext": {
   "cell_metadata_filter": "-all",
   "main_language": "python",
   "notebook_metadata_filter": "-all"
  }
 },
 "nbformat": 4,
 "nbformat_minor": 5
}
