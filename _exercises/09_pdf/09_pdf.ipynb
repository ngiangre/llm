{
 "cells": [
  {
   "cell_type": "code",
   "execution_count": null,
   "id": "f3af8de7",
   "metadata": {},
   "outputs": [],
   "source": [
    "import chatlas\n",
    "import dotenv\n",
    "from pyhere import here\n",
    "\n",
    "dotenv.load_dotenv()"
   ]
  },
  {
   "cell_type": "code",
   "execution_count": null,
   "id": "80d4f8b0",
   "metadata": {},
   "outputs": [],
   "source": [
    "recipe_pdfs = here(\"data/recipes/pdf/\")\n",
    "pdf_cheesesteak = recipe_pdfs / \"PhillyCheesesteak.pdf\""
   ]
  },
  {
   "cell_type": "markdown",
   "id": "7be5d496",
   "metadata": {},
   "source": [
    "Ask OpenAI's `gpt-4.1-nano` to turn this messy PDF print-out of a Philly\n",
    "Cheesesteak recipe into a clean list of ingredients and steps to follow."
   ]
  },
  {
   "cell_type": "code",
   "execution_count": null,
   "id": "6882c1f2",
   "metadata": {},
   "outputs": [],
   "source": [
    "chat = chatlas.____\n",
    "chat.chat(\n",
    "    \"____\",\n",
    "    chatlas.____(pdf_cheesesteak),\n",
    ")"
   ]
  }
 ],
 "metadata": {
  "jupytext": {
   "cell_metadata_filter": "-all",
   "main_language": "python",
   "notebook_metadata_filter": "-all"
  }
 },
 "nbformat": 4,
 "nbformat_minor": 5
}
