{
 "cells": [
  {
   "cell_type": "code",
   "execution_count": null,
   "id": "f6143e02",
   "metadata": {},
   "outputs": [],
   "source": [
    "from math import floor, sqrt\n",
    "\n",
    "import chatlas\n",
    "import dotenv\n",
    "import numpy as np\n",
    "from matplotlib import pyplot as plt\n",
    "from plotnine import aes, geom_point, ggplot, labs, theme_bw\n",
    "\n",
    "dotenv.load_dotenv()"
   ]
  },
  {
   "cell_type": "markdown",
   "id": "20f6f748",
   "metadata": {},
   "source": [
    "Step 1: This time, we're going to replace our mtcars scatter plot with a plot\n",
    "of uniform random noise."
   ]
  },
  {
   "cell_type": "code",
   "execution_count": null,
   "id": "89f43595",
   "metadata": {},
   "outputs": [],
   "source": [
    "m = 32\n",
    "\n",
    "g = floor(sqrt(m))\n",
    "u = (np.arange(1, g + 1) - 0.5) / g\n",
    "xx, yy = np.meshgrid(u, u)\n",
    "grid = np.column_stack([xx.ravel(), yy.ravel()])\n",
    "\n",
    "# small jitter to avoid perfect lattice, scaled to cell size\n",
    "eps = 1.0 / (2.0 * sqrt(m))\n",
    "jitter = np.random.uniform(-eps, eps, size=grid.shape)\n",
    "grid_jitter = np.clip(grid + jitter, 0.0, 1.0)\n",
    "\n",
    "x = grid_jitter[:, 0]\n",
    "y = grid_jitter[:, 1]\n",
    "\n",
    "p = (\n",
    "    ggplot(aes(x=x, y=y))\n",
    "    + geom_point(color=\"steelblue\", size=2)\n",
    "    + labs(title=\"MPG vs Weight\", x=\"Weight (1000 lb)\", y=\"Miles per Gallon (mpg)\")\n",
    "    + theme_bw()\n",
    ")\n",
    "\n",
    "p.show()"
   ]
  },
  {
   "cell_type": "markdown",
   "id": "9658acdd",
   "metadata": {},
   "source": [
    "Step 2: Ask Claude 4 Sonnet to interpret the plot. How does it do this time?"
   ]
  },
  {
   "cell_type": "code",
   "execution_count": null,
   "id": "53d43c5e",
   "metadata": {},
   "outputs": [],
   "source": [
    "# Register the plot with matplotlib's current figure\n",
    "plt.figure(p.draw())\n",
    "\n",
    "chat = chatlas.ChatAuto(\"anthropic/claude-sonnet-4-20250514\")\n",
    "chat.chat(\n",
    "    \"Interpret this plot.\",\n",
    "    chatlas.content_image_plot(),\n",
    ")"
   ]
  },
  {
   "cell_type": "markdown",
   "id": "43cc76d1",
   "metadata": {},
   "source": [
    "Step 3: Work with a partner to improve the prompt to get a better\n",
    "interpretation."
   ]
  }
 ],
 "metadata": {
  "jupytext": {
   "cell_metadata_filter": "-all",
   "main_language": "python",
   "notebook_metadata_filter": "-all"
  },
  "language_info": {
   "name": "python"
  }
 },
 "nbformat": 4,
 "nbformat_minor": 5
}
