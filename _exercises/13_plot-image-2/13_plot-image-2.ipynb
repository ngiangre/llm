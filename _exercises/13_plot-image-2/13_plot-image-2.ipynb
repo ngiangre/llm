{
 "cells": [
  {
   "cell_type": "code",
   "execution_count": null,
   "id": "f6143e02",
   "metadata": {},
   "outputs": [],
   "source": [
    "from math import floor, sqrt\n",
    "\n",
    "import chatlas\n",
    "import dotenv\n",
    "import matplotlib.pyplot as plt\n",
    "import numpy as np\n",
    "\n",
    "dotenv.load_dotenv()"
   ]
  },
  {
   "cell_type": "code",
   "execution_count": null,
   "id": "89f43595",
   "metadata": {},
   "outputs": [],
   "source": [
    "m = 32\n",
    "\n",
    "g = floor(sqrt(m))\n",
    "u = (np.arange(1, g + 1) - 0.5) / g\n",
    "xx, yy = np.meshgrid(u, u)\n",
    "grid = np.column_stack([xx.ravel(), yy.ravel()])\n",
    "\n",
    "# small jitter to avoid perfect lattice, scaled to cell size\n",
    "eps = 1.0 / (2.0 * sqrt(m))\n",
    "jitter = np.random.uniform(-eps, eps, size=grid.shape)\n",
    "grid_jitter = np.clip(grid + jitter, 0.0, 1.0)\n",
    "\n",
    "x = grid_jitter[:, 0]\n",
    "y = grid_jitter[:, 1]\n",
    "\n",
    "plt.figure(figsize=(7, 5))\n",
    "plt.scatter(x, y, color=\"steelblue\", s=30, edgecolor=\"white\", linewidth=0.5)\n",
    "plt.title(\"MPG vs Weight\")\n",
    "plt.xlabel(\"Weight (1000 lb)\")\n",
    "plt.ylabel(\"Miles per Gallon (mpg)\")\n",
    "plt.tight_layout()\n",
    "plt.show()"
   ]
  },
  {
   "cell_type": "code",
   "execution_count": null,
   "id": "53d43c5e",
   "metadata": {},
   "outputs": [],
   "source": [
    "chat = chatlas.ChatAuto(\"openai/gpt-5\")\n",
    "chat.chat(\n",
    "    \"Interpret this plot.\",\n",
    "    chatlas.content_image_plot(),\n",
    ")"
   ]
  }
 ],
 "metadata": {
  "jupytext": {
   "cell_metadata_filter": "-all",
   "main_language": "python",
   "notebook_metadata_filter": "-all"
  },
  "language_info": {
   "name": "python"
  }
 },
 "nbformat": 4,
 "nbformat_minor": 5
}
