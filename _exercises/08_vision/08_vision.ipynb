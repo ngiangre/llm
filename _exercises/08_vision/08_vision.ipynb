{
 "cells": [
  {
   "cell_type": "code",
   "execution_count": null,
   "id": "0b06bef7",
   "metadata": {},
   "outputs": [],
   "source": [
    "import chatlas\n",
    "import dotenv\n",
    "from pyhere import here\n",
    "\n",
    "dotenv.load_dotenv()"
   ]
  },
  {
   "cell_type": "code",
   "execution_count": null,
   "id": "5cc1c863",
   "metadata": {},
   "outputs": [],
   "source": [
    "recipe_images = here(\"data/recipes/images/\")\n",
    "img_ziti = recipe_images / \"ClassicBakedZiti.jpg\"\n",
    "img_mac_cheese = recipe_images / \"CreamyCrockpotMacAndCheese.jpg\""
   ]
  },
  {
   "cell_type": "markdown",
   "id": "46edf359",
   "metadata": {},
   "source": [
    "Ask OpenAI's `gpt-4.1-nano` to give a creative recipe title and description\n",
    "for the ziti image.\n",
    "chat = ____\n",
    "chat.chat(\n",
    "    \"Give the food in this image a creative recipe title and description.\",\n",
    "    chatlas.____(img_ziti),\n",
    ")"
   ]
  },
  {
   "cell_type": "markdown",
   "id": "cf1f8673",
   "metadata": {},
   "source": [
    "In a new chat, ask it to write a recipe for the food it sees in the Mac &\n",
    "Cheese image. (Don't tell it that it's Mac & Cheese!)\n",
    "chat = ____\n",
    "chat.chat(\n",
    "    \"Write a recipe to make the food in this image.\", chatlas.____(img_mac_cheese)\n",
    ")"
   ]
  }
 ],
 "metadata": {
  "jupytext": {
   "cell_metadata_filter": "-all",
   "main_language": "python",
   "notebook_metadata_filter": "-all"
  }
 },
 "nbformat": 4,
 "nbformat_minor": 5
}
