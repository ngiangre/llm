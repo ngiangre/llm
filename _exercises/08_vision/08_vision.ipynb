{
 "cells": [
  {
   "cell_type": "code",
   "execution_count": null,
   "id": "0b06bef7",
   "metadata": {},
   "outputs": [],
   "source": [
    "import chatlas\n",
    "import dotenv\n",
    "from pyhere import here\n",
    "\n",
    "dotenv.load_dotenv()"
   ]
  },
  {
   "cell_type": "code",
   "execution_count": null,
   "id": "5cc1c863",
   "metadata": {},
   "outputs": [],
   "source": [
    "recipe_image = here(\"data/recipes/images/ClassicBakedZiti.jpg\")"
   ]
  },
  {
   "cell_type": "code",
   "execution_count": null,
   "id": "f7d79acc",
   "metadata": {},
   "outputs": [],
   "source": [
    "chat = chatlas.ChatOllama(model=\"gemma3:4b\")\n",
    "chat.chat(\n",
    "    \"Give the food in this image a creative recipe title.\",\n",
    "    chatlas.content_image_file(recipe_image),\n",
    ")"
   ]
  },
  {
   "cell_type": "code",
   "execution_count": null,
   "id": "69b9ee5f",
   "metadata": {},
   "outputs": [],
   "source": [
    "chat = chatlas.ChatOllama(model=\"gemma3:4b\")\n",
    "chat.chat(\n",
    "    \"Write a recipe for the meal in this image.\",\n",
    "    chatlas.content_image_file(recipe_image),\n",
    ")"
   ]
  }
 ],
 "metadata": {
  "jupytext": {
   "cell_metadata_filter": "-all",
   "main_language": "python",
   "notebook_metadata_filter": "-all"
  }
 },
 "nbformat": 4,
 "nbformat_minor": 5
}
