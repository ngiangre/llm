{
 "cells": [
  {
   "cell_type": "code",
   "execution_count": null,
   "id": "f3af8de7",
   "metadata": {},
   "outputs": [],
   "source": [
    "import chatlas\n",
    "import dotenv\n",
    "from pyhere import here\n",
    "\n",
    "dotenv.load_dotenv()"
   ]
  },
  {
   "cell_type": "code",
   "execution_count": null,
   "id": "80d4f8b0",
   "metadata": {},
   "outputs": [],
   "source": [
    "recipe_images= here(\"data/recipes/pdf/\")\n",
    "pdf_cheesesteak = recipe_images / \"PhillyCheesesteak.pdf\""
   ]
  },
  {
   "cell_type": "code",
   "execution_count": null,
   "id": "6882c1f2",
   "metadata": {},
   "outputs": [],
   "source": [
    "chat = chatlas.ChatOpenAI(model=\"gpt-4.1-nano\")\n",
    "chat.chat(\n",
    "    \"Summarize the recipe in this PDF into a list of ingredients \"\n",
    "    \"and the steps to follow to make the recipe.\",\n",
    "    chatlas.content_pdf_file(pdf_cheesesteak),\n",
    ")"
   ]
  }
 ],
 "metadata": {
  "jupytext": {
   "cell_metadata_filter": "-all",
   "main_language": "python",
   "notebook_metadata_filter": "-all"
  }
 },
 "nbformat": 4,
 "nbformat_minor": 5
}
