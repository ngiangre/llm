{
 "cells": [
  {
   "cell_type": "code",
   "execution_count": null,
   "id": "79699f5e",
   "metadata": {},
   "outputs": [],
   "source": [
    "import polars as pl\n",
    "from pyhere import here"
   ]
  },
  {
   "cell_type": "code",
   "execution_count": null,
   "id": "ff189063",
   "metadata": {},
   "outputs": [],
   "source": [
    "df = pl.read_csv(here(\"data/penguins.csv\"))"
   ]
  },
  {
   "cell_type": "code",
   "execution_count": null,
   "id": "123a09ac",
   "metadata": {},
   "outputs": [],
   "source": [
    "island_summary = (\n",
    "    df.group_by(\"island\")\n",
    "    .agg(\n",
    "        sample_size=pl.len(),\n",
    "        prop_female=(pl.col(\"sex\").eq(\"female\").sum() / pl.col(\"sex\").len()),\n",
    "        mean_bill_depth_mm=pl.col(\"bill_depth_mm\").mean(),\n",
    "        std_bill_depth_mm=pl.col(\"bill_depth_mm\").std(),\n",
    "        mean_flipper_length_mm=pl.col(\"flipper_length_mm\").mean(),\n",
    "        std_flipper_length_mm=pl.col(\"flipper_length_mm\").std(),\n",
    "        mean_body_mass_g=pl.col(\"body_mass_g\").mean(),\n",
    "        std_body_mass_g=pl.col(\"body_mass_g\").std(),\n",
    "    )\n",
    "    .sort(\"island\")\n",
    ")"
   ]
  },
  {
   "cell_type": "code",
   "execution_count": null,
   "id": "11c479a9",
   "metadata": {},
   "outputs": [],
   "source": [
    "island_summary"
   ]
  }
 ],
 "metadata": {
  "jupytext": {
   "cell_metadata_filter": "-all",
   "main_language": "python",
   "notebook_metadata_filter": "-all"
  }
 },
 "nbformat": 4,
 "nbformat_minor": 5
}
