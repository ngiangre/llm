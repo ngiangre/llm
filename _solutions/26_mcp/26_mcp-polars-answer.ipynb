{
 "cells": [
  {
   "cell_type": "code",
   "execution_count": null,
   "id": "79699f5e",
   "metadata": {},
   "outputs": [],
   "source": [
    "import polars as pl\n",
    "from pyhere import here"
   ]
  },
  {
   "cell_type": "code",
   "execution_count": null,
   "id": "ff189063",
   "metadata": {},
   "outputs": [],
   "source": [
    "listings = pl.read_csv(here(\"data/airbnb-asheville.csv\"))"
   ]
  },
  {
   "cell_type": "code",
   "execution_count": null,
   "id": "123a09ac",
   "metadata": {},
   "outputs": [],
   "source": [
    "hot_room_types = (\n",
    "    listings.group_by([\"neighborhood\", \"room_type\"])\n",
    "    .agg(\n",
    "        [\n",
    "            pl.len().alias(\"total_listings\"),\n",
    "            pl.col(\"price\").mean().round(2).alias(\"avg_price\"),\n",
    "            pl.col(\"score_rating\").mean().round(2).alias(\"avg_rating\"),\n",
    "            # occupied days = 365 - availability_365\n",
    "            (365 - pl.col(\"availability_365\")).sum().alias(\"total_occupied_days\"),\n",
    "            (365 - pl.col(\"availability_365\").mean()).alias(\"avg_occupied_days\"),\n",
    "            pl.col(\"n_reviews\").sum().alias(\"total_reviews\"),\n",
    "        ]\n",
    "    )\n",
    "    .with_columns(\n",
    "        (pl.col(\"total_reviews\") / pl.col(\"total_listings\")).alias(\n",
    "            \"reviews_per_listing\"\n",
    "        )\n",
    "    )\n",
    "    .group_by(\"neighborhood\")\n",
    "    .map_groups(lambda df: df.sort(\"reviews_per_listing\", descending=True).head(1))\n",
    "    .sort(\"avg_occupied_days\", descending=True)\n",
    "    .select(\n",
    "        \"neighborhood\",\n",
    "        \"room_type\",\n",
    "        \"total_listings\",\n",
    "        \"avg_price\",\n",
    "        \"total_occupied_days\",\n",
    "        \"avg_occupied_days\",\n",
    "        \"total_reviews\",\n",
    "        \"reviews_per_listing\",\n",
    "    )\n",
    ")"
   ]
  },
  {
   "cell_type": "code",
   "execution_count": null,
   "id": "11c479a9",
   "metadata": {},
   "outputs": [],
   "source": [
    "print(hot_room_types)"
   ]
  }
 ],
 "metadata": {
  "jupytext": {
   "cell_metadata_filter": "-all",
   "main_language": "python",
   "notebook_metadata_filter": "-all"
  }
 },
 "nbformat": 4,
 "nbformat_minor": 5
}
