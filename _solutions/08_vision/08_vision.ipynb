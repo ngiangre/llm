{
 "cells": [
  {
   "cell_type": "code",
   "execution_count": null,
   "id": "0b06bef7",
   "metadata": {},
   "outputs": [],
   "source": [
    "import chatlas\n",
    "import dotenv\n",
    "from pyhere import here\n",
    "\n",
    "dotenv.load_dotenv()"
   ]
  },
  {
   "cell_type": "code",
   "execution_count": null,
   "id": "5cc1c863",
   "metadata": {},
   "outputs": [],
   "source": [
    "recipe_images= here(\"data/recipes/images/\")\n",
    "img_ziti = recipe_images / \"ClassicBakedZiti.jpg\"\n",
    "img_mac_cheese = recipe_images / \"CreamyCrockpotMacAndCheese.jpg\""
   ]
  },
  {
   "cell_type": "code",
   "execution_count": null,
   "id": "f7d79acc",
   "metadata": {},
   "outputs": [],
   "source": [
    "chat = chatlas.ChatOpenAI(model=\"gpt-4.1-nano\")\n",
    "chat.chat(\n",
    "    \"Give the food in this image a creative recipe title and description.\",\n",
    "    chatlas.content_image_file(img_ziti),\n",
    ")"
   ]
  },
  {
   "cell_type": "code",
   "execution_count": null,
   "id": "69b9ee5f",
   "metadata": {},
   "outputs": [],
   "source": [
    "chat = chatlas.ChatOpenAI(model=\"gpt-4.1-nano\")\n",
    "chat.chat(\n",
    "    \"Write a recipe to make the food in this image.\",\n",
    "    chatlas.content_image_file(img_mac_cheese),\n",
    ")"
   ]
  }
 ],
 "metadata": {
  "jupytext": {
   "cell_metadata_filter": "-all",
   "main_language": "python",
   "notebook_metadata_filter": "-all"
  }
 },
 "nbformat": 4,
 "nbformat_minor": 5
}
