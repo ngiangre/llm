{
 "cells": [
  {
   "cell_type": "code",
   "execution_count": null,
   "id": "59405df0",
   "metadata": {},
   "outputs": [],
   "source": [
    "import chatlas\n",
    "import dotenv\n",
    "import polars as pl\n",
    "from plotnine import ggplot, aes, geom_point, labs, theme_bw\n",
    "from pyhere import here\n",
    "\n",
    "dotenv.load_dotenv()"
   ]
  },
  {
   "cell_type": "code",
   "execution_count": null,
   "id": "67bdf088",
   "metadata": {},
   "outputs": [],
   "source": [
    "mtcars = pl.read_csv(here(\"data/mtcars.csv\"))\n",
    "mtcars"
   ]
  },
  {
   "cell_type": "code",
   "execution_count": null,
   "id": "c7ee4386",
   "metadata": {},
   "outputs": [],
   "source": [
    "p = (\n",
    "    ggplot(mtcars, aes(x=\"wt\", y=\"mpg\"))\n",
    "    + geom_point(color=\"steelblue\", size=2)\n",
    "    + labs(\n",
    "        title=\"MPG vs Weight\",\n",
    "        x=\"Weight (1000 lb)\",\n",
    "        y=\"Miles per Gallon (mpg)\"\n",
    "    )\n",
    "    + theme_bw()\n",
    ")\n",
    "\n",
    "p.show()"
   ]
  },
  {
   "cell_type": "code",
   "execution_count": null,
   "id": "bedf257e",
   "metadata": {},
   "outputs": [],
   "source": [
    "chat = chatlas.ChatAuto(\"openai/gpt-5\")\n",
    "chat.chat(\n",
    "    \"Interpret this plot.\",\n",
    "    chatlas.content_image_plot(),\n",
    ")"
   ]
  }
 ],
 "metadata": {
  "jupytext": {
   "cell_metadata_filter": "-all",
   "main_language": "python",
   "notebook_metadata_filter": "-all"
  },
  "language_info": {
   "name": "python"
  }
 },
 "nbformat": 4,
 "nbformat_minor": 5
}
