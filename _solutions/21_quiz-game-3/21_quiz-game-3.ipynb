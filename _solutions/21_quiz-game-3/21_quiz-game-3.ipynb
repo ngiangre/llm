{
 "cells": [
  {
   "cell_type": "code",
   "execution_count": null,
   "id": "fe038b22",
   "metadata": {},
   "outputs": [],
   "source": [
    "import chatlas\n",
    "import dotenv\n",
    "from pyhere import here\n",
    "\n",
    "dotenv.load_dotenv()"
   ]
  },
  {
   "cell_type": "code",
   "execution_count": null,
   "id": "261a3a67",
   "metadata": {},
   "outputs": [],
   "source": [
    "from typing import Literal\n",
    "\n",
    "from playsound3 import playsound\n",
    "\n",
    "SoundChoice = Literal[\"correct\", \"incorrect\", \"you-win\"]\n",
    "\n",
    "\n",
    "def play_sound(sound: SoundChoice = \"correct\") -> str:\n",
    "    \"\"\"\n",
    "    Plays a sound effect.\n",
    "\n",
    "    Parameters\n",
    "    ----------\n",
    "    sound: Which sound effect to play: \"correct\", \"incorrect\", or \"you-win\".\n",
    "\n",
    "    Returns\n",
    "    -------\n",
    "    A confirmation that the sound was played.\n",
    "    \"\"\"\n",
    "    allowed = {\"correct\", \"incorrect\", \"you-win\"}\n",
    "    if sound not in allowed:\n",
    "        raise ValueError(f\"sound must be one of {sorted(allowed)}; got {sound!r}\")\n",
    "\n",
    "    # Map choices to audio file paths. Update these to valid files on your machine.\n",
    "    sound_map = {\n",
    "        \"correct\": here(\"data/sounds/smb_coin.wav\"),\n",
    "        \"incorrect\": here(\"data/sounds/wilhelm.wav\"),\n",
    "        \"you-win\": here(\"data/sounds/smb_stage_clear.wav\"),\n",
    "    }\n",
    "\n",
    "    playsound(sound_map[sound])\n",
    "\n",
    "    return f\"The '{sound}' sound was played.\""
   ]
  },
  {
   "cell_type": "code",
   "execution_count": null,
   "id": "5979c417",
   "metadata": {},
   "outputs": [],
   "source": [
    "chat = chatlas.ChatAnthropic(\n",
    "    model=\"claude-3-7-sonnet-20250219\",\n",
    "    system_prompt=here(\"_solutions/14_quiz-game-1/prompt.md\").read_text(),\n",
    ")"
   ]
  },
  {
   "cell_type": "code",
   "execution_count": null,
   "id": "f9216bad",
   "metadata": {},
   "outputs": [],
   "source": [
    "from pathlib import Path\n",
    "\n",
    "import bsicons\n",
    "from htmltools import HTML\n",
    "\n",
    "icon = Path(bsicons.get_icon_path(\"volume-up-fill\"))\n",
    "\n",
    "chat.register_tool(\n",
    "    play_sound,\n",
    "    annotations={\n",
    "        \"title\": \"Play Sound Effect\",\n",
    "        \"extra\": {\n",
    "            \"icon\": HTML(icon.read_text()),\n",
    "        },\n",
    "    },\n",
    ")\n",
    "\n",
    "_ = chat.chat(\"Begin the quiz game.\", echo=\"none\")\n",
    "chat.set_turns(chat.get_turns()[-1:])  # Keep only the assistant's greeting"
   ]
  },
  {
   "cell_type": "code",
   "execution_count": null,
   "id": "5ebac753",
   "metadata": {},
   "outputs": [],
   "source": [
    "chat.app()"
   ]
  }
 ],
 "metadata": {
  "jupytext": {
   "cell_metadata_filter": "-all",
   "main_language": "python",
   "notebook_metadata_filter": "-all"
  }
 },
 "nbformat": 4,
 "nbformat_minor": 5
}
