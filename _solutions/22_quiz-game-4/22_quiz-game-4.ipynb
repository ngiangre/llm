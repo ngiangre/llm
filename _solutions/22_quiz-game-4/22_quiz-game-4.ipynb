{
 "cells": [
  {
   "cell_type": "code",
   "execution_count": null,
   "id": "fe038b22",
   "metadata": {},
   "outputs": [],
   "source": [
    "import chatlas\n",
    "import dotenv\n",
    "from pyhere import here\n",
    "\n",
    "dotenv.load_dotenv()"
   ]
  },
  {
   "cell_type": "code",
   "execution_count": null,
   "id": "261a3a67",
   "metadata": {},
   "outputs": [],
   "source": [
    "from pathlib import Path\n",
    "from typing import Any, Literal\n",
    "\n",
    "from faicons import icon_svg\n",
    "from playsound3 import playsound\n",
    "\n",
    "SoundChoice = Literal[\"correct\", \"incorrect\", \"new-round\", \"you-win\"]\n",
    "\n",
    "sound_map: dict[SoundChoice, Path] = {\n",
    "    \"correct\": here(\"data/sounds/smb_coin.wav\"),\n",
    "    \"incorrect\": here(\"data/sounds/wilhelm.wav\"),\n",
    "    \"new-round\": here(\"data/sounds/victory_fanfare_mono.wav\"),\n",
    "    \"you-win\": here(\"data/sounds/smb_stage_clear.wav\"),\n",
    "}\n",
    "\n",
    "icon_map: dict[SoundChoice, Any] = {\n",
    "    \"correct\": icon_svg(\"circle-check\", fill=\"var(--bs-success)\"),\n",
    "    \"incorrect\": icon_svg(\"circle-xmark\", fill=\"var(--bs-danger)\"),\n",
    "    \"new-round\": icon_svg(\"circle-play\", fill=\"var(--bs-primary)\"),\n",
    "    \"you-win\": icon_svg(\"trophy\", fill=\"var(--bs-warning)\"),\n",
    "}\n",
    "\n",
    "title_map: dict[SoundChoice, str] = {\n",
    "    \"correct\": \"That's right!\",\n",
    "    \"incorrect\": \"Oops, not quite.\",\n",
    "    \"new-round\": \"Let's goooooooo!\",\n",
    "    \"you-win\": \"You Win\",\n",
    "}\n",
    "\n",
    "\n",
    "def play_sound(sound: SoundChoice = \"correct\") -> str:\n",
    "    \"\"\"\n",
    "    Plays a sound effect.\n",
    "\n",
    "    Parameters\n",
    "    ----------\n",
    "    sound: Which sound effect to play: \"correct\", \"incorrect\", \"new-round\" or\n",
    "           \"you-win\". Play the \"new-round\" sound after the user picks a theme\n",
    "           for the round. Play the \"correct\" and \"incorrect\" sounds when the\n",
    "           user answers a question correctly or incorrectly, respectively. And\n",
    "           play the \"you-win\" sound at the end of a round of questions.\n",
    "\n",
    "    Returns\n",
    "    -------\n",
    "    A confirmation that the sound was played.\n",
    "    \"\"\"\n",
    "    if sound not in sound_map.keys():\n",
    "        raise ValueError(\n",
    "            f\"sound must be one of {sorted(sound_map.keys())}; got {sound!r}\"\n",
    "        )\n",
    "\n",
    "    playsound(sound_map[sound])\n",
    "\n",
    "    return chatlas.ContentToolResult(\n",
    "        value=f\"The '{sound}' sound was played.\",\n",
    "        extra={\n",
    "            \"display\": {\n",
    "                \"title\": title_map[sound],\n",
    "                \"icon\": icon_map[sound],\n",
    "            }\n",
    "        },\n",
    "    )"
   ]
  },
  {
   "cell_type": "code",
   "execution_count": null,
   "id": "5979c417",
   "metadata": {},
   "outputs": [],
   "source": [
    "chat = chatlas.ChatAnthropic(\n",
    "    model=\"claude-3-7-sonnet-20250219\",\n",
    "    system_prompt=here(\"_solutions/14_quiz-game-1/prompt.md\").read_text(),\n",
    ")"
   ]
  },
  {
   "cell_type": "code",
   "execution_count": null,
   "id": "f9216bad",
   "metadata": {},
   "outputs": [],
   "source": [
    "chat.register_tool(\n",
    "    play_sound,\n",
    "    annotations={\"title\": \"Play Sound Effect\"},\n",
    ")\n",
    "\n",
    "_ = chat.chat(\"Begin the quiz game.\", echo=\"none\")\n",
    "chat.set_turns(chat.get_turns()[-1:])  # Keep only the assistant's greeting"
   ]
  },
  {
   "cell_type": "code",
   "execution_count": null,
   "id": "5ebac753",
   "metadata": {},
   "outputs": [],
   "source": [
    "chat.app()"
   ]
  }
 ],
 "metadata": {
  "jupytext": {
   "cell_metadata_filter": "-all",
   "main_language": "python",
   "notebook_metadata_filter": "-all"
  }
 },
 "nbformat": 4,
 "nbformat_minor": 5
}
