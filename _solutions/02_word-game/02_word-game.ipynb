{
 "cells": [
  {
   "cell_type": "code",
   "execution_count": null,
   "id": "8ed943a4",
   "metadata": {},
   "outputs": [],
   "source": [
    "import chatlas\n",
    "import dotenv"
   ]
  },
  {
   "cell_type": "code",
   "execution_count": null,
   "id": "6a6056c2",
   "metadata": {},
   "outputs": [],
   "source": [
    "dotenv.load_dotenv()"
   ]
  },
  {
   "cell_type": "code",
   "execution_count": null,
   "id": "70a00d33",
   "metadata": {},
   "outputs": [],
   "source": [
    "chat = chatlas.ChatOpenAI(\n",
    "    system_prompt=\"We are playing a word guessing game. \"\n",
    "    \"At each turn, you guess the word and tell us what it is.\"\n",
    ")\n",
    "chat.chat(\"In British English, guess the word for a person who lives next door.\")\n",
    "chat.chat(\"What helps a car move smoothly down the road?\")"
   ]
  },
  {
   "cell_type": "code",
   "execution_count": null,
   "id": "db0ca67a",
   "metadata": {},
   "outputs": [],
   "source": [
    "# Compare with...\n",
    "chat = chatlas.ChatOpenAI()\n",
    "chat.chat(\"What helps a car move smoothly down the road?\")"
   ]
  }
 ],
 "metadata": {
  "jupytext": {
   "cell_metadata_filter": "-all",
   "main_language": "python",
   "notebook_metadata_filter": "-all"
  }
 },
 "nbformat": 4,
 "nbformat_minor": 5
}
