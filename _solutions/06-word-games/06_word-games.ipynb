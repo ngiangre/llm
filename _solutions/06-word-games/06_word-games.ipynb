{
 "cells": [
  {
   "cell_type": "code",
   "execution_count": null,
   "id": "19b19d97",
   "metadata": {},
   "outputs": [],
   "source": [
    "import random\n",
    "\n",
    "import chatlas\n",
    "import dotenv\n",
    "from pyhere import here\n",
    "\n",
    "dotenv.load_dotenv()\n",
    "\n",
    "words_file = here() / \"_solutions\" / \"06-word-games\" / \"words.txt\"\n",
    "words = words_file.read_text().strip().split(\"\\n\")"
   ]
  },
  {
   "cell_type": "code",
   "execution_count": null,
   "id": "f11f4db6",
   "metadata": {},
   "outputs": [],
   "source": [
    "chat = chatlas.ChatOpenAI(\n",
    "    system_prompt=f\"\"\"\n",
    "We are playing a word guessing game.\n",
    "Here's the secret words: {random.sample(words, 1)}.\n",
    "Give the user an initial riddle and then only answer their questions with yes or no.\n",
    "When they win, use lots of emojis.\n",
    "  \"\"\"\n",
    ")"
   ]
  },
  {
   "cell_type": "code",
   "execution_count": null,
   "id": "732c4bc9",
   "metadata": {},
   "outputs": [],
   "source": [
    "print('Start the chat by saying \"Let\\'s play\"')\n",
    "chat.console()"
   ]
  }
 ],
 "metadata": {
  "jupytext": {
   "cell_metadata_filter": "-all",
   "main_language": "python",
   "notebook_metadata_filter": "-all"
  }
 },
 "nbformat": 4,
 "nbformat_minor": 5
}
