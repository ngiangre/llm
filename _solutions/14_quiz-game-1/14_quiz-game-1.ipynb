{
 "cells": [
  {
   "cell_type": "code",
   "execution_count": null,
   "id": "fe038b22",
   "metadata": {},
   "outputs": [],
   "source": [
    "import chatlas\n",
    "import dotenv\n",
    "from pyhere import here\n",
    "\n",
    "dotenv.load_dotenv()"
   ]
  },
  {
   "cell_type": "code",
   "execution_count": null,
   "id": "261a3a67",
   "metadata": {},
   "outputs": [],
   "source": [
    "chat = chatlas.ChatAnthropic(\n",
    "    model=\"claude-3-7-sonnet-20250219\",\n",
    "    system_prompt=here(\"_solutions/14_quiz-game-1/prompt.md\").read_text(),\n",
    ")\n",
    "\n",
    "_ = chat.chat(\"Begin the quiz game.\", echo=\"none\")\n",
    "chat.set_turns(chat.get_turns()[-1:])  # Keep only the assistant's greeting"
   ]
  },
  {
   "cell_type": "code",
   "execution_count": null,
   "id": "5ebac753",
   "metadata": {},
   "outputs": [],
   "source": [
    "chat.app()"
   ]
  }
 ],
 "metadata": {
  "jupytext": {
   "cell_metadata_filter": "-all",
   "main_language": "python",
   "notebook_metadata_filter": "-all"
  }
 },
 "nbformat": 4,
 "nbformat_minor": 5
}
